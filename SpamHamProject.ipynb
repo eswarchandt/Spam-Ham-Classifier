{
 "cells": [
  {
   "cell_type": "code",
   "execution_count": 2,
   "metadata": {},
   "outputs": [],
   "source": [
    "import pandas as pd \n",
    "import string \n",
    "from pprint import pprint \n",
    "from time import time\n",
    "from nltk.corpus import stopwords"
   ]
  },
  {
   "cell_type": "code",
   "execution_count": 3,
   "metadata": {
    "scrolled": true
   },
   "outputs": [],
   "source": [
    "Spam_Collection=pd.read_csv(r\"C:\\Users\\Eswar\\Desktop\\Simpli_Learn\\Data Science With Python\\MessageSpamCollection_dataset\\SpamCollection\\SpamCollection\",sep='\\t',header=None,names=['response', 'message'])\n"
   ]
  },
  {
   "cell_type": "code",
   "execution_count": 4,
   "metadata": {},
   "outputs": [
    {
     "data": {
      "text/html": [
       "<div>\n",
       "<style scoped>\n",
       "    .dataframe tbody tr th:only-of-type {\n",
       "        vertical-align: middle;\n",
       "    }\n",
       "\n",
       "    .dataframe tbody tr th {\n",
       "        vertical-align: top;\n",
       "    }\n",
       "\n",
       "    .dataframe thead th {\n",
       "        text-align: right;\n",
       "    }\n",
       "</style>\n",
       "<table border=\"1\" class=\"dataframe\">\n",
       "  <thead>\n",
       "    <tr style=\"text-align: right;\">\n",
       "      <th></th>\n",
       "      <th>response</th>\n",
       "      <th>message</th>\n",
       "    </tr>\n",
       "  </thead>\n",
       "  <tbody>\n",
       "    <tr>\n",
       "      <td>0</td>\n",
       "      <td>ham</td>\n",
       "      <td>Go until jurong point, crazy.. Available only ...</td>\n",
       "    </tr>\n",
       "    <tr>\n",
       "      <td>1</td>\n",
       "      <td>ham</td>\n",
       "      <td>Ok lar... Joking wif u oni...</td>\n",
       "    </tr>\n",
       "    <tr>\n",
       "      <td>2</td>\n",
       "      <td>spam</td>\n",
       "      <td>Free entry in 2 a wkly comp to win FA Cup fina...</td>\n",
       "    </tr>\n",
       "    <tr>\n",
       "      <td>3</td>\n",
       "      <td>ham</td>\n",
       "      <td>U dun say so early hor... U c already then say...</td>\n",
       "    </tr>\n",
       "    <tr>\n",
       "      <td>4</td>\n",
       "      <td>ham</td>\n",
       "      <td>Nah I don't think he goes to usf, he lives aro...</td>\n",
       "    </tr>\n",
       "  </tbody>\n",
       "</table>\n",
       "</div>"
      ],
      "text/plain": [
       "  response                                            message\n",
       "0      ham  Go until jurong point, crazy.. Available only ...\n",
       "1      ham                      Ok lar... Joking wif u oni...\n",
       "2     spam  Free entry in 2 a wkly comp to win FA Cup fina...\n",
       "3      ham  U dun say so early hor... U c already then say...\n",
       "4      ham  Nah I don't think he goes to usf, he lives aro..."
      ]
     },
     "execution_count": 4,
     "metadata": {},
     "output_type": "execute_result"
    }
   ],
   "source": [
    "Spam_Collection.head()"
   ]
  },
  {
   "cell_type": "code",
   "execution_count": 5,
   "metadata": {},
   "outputs": [
    {
     "data": {
      "text/plain": [
       "(5572, 2)"
      ]
     },
     "execution_count": 5,
     "metadata": {},
     "output_type": "execute_result"
    }
   ],
   "source": [
    "Spam_Collection.shape"
   ]
  },
  {
   "cell_type": "code",
   "execution_count": 6,
   "metadata": {},
   "outputs": [
    {
     "data": {
      "text/html": [
       "<div>\n",
       "<style scoped>\n",
       "    .dataframe tbody tr th:only-of-type {\n",
       "        vertical-align: middle;\n",
       "    }\n",
       "\n",
       "    .dataframe tbody tr th {\n",
       "        vertical-align: top;\n",
       "    }\n",
       "\n",
       "    .dataframe thead th {\n",
       "        text-align: right;\n",
       "    }\n",
       "</style>\n",
       "<table border=\"1\" class=\"dataframe\">\n",
       "  <thead>\n",
       "    <tr style=\"text-align: right;\">\n",
       "      <th></th>\n",
       "      <th>response</th>\n",
       "      <th>message</th>\n",
       "    </tr>\n",
       "  </thead>\n",
       "  <tbody>\n",
       "    <tr>\n",
       "      <td>count</td>\n",
       "      <td>5572</td>\n",
       "      <td>5572</td>\n",
       "    </tr>\n",
       "    <tr>\n",
       "      <td>unique</td>\n",
       "      <td>2</td>\n",
       "      <td>5169</td>\n",
       "    </tr>\n",
       "    <tr>\n",
       "      <td>top</td>\n",
       "      <td>ham</td>\n",
       "      <td>Sorry, I'll call later</td>\n",
       "    </tr>\n",
       "    <tr>\n",
       "      <td>freq</td>\n",
       "      <td>4825</td>\n",
       "      <td>30</td>\n",
       "    </tr>\n",
       "  </tbody>\n",
       "</table>\n",
       "</div>"
      ],
      "text/plain": [
       "       response                 message\n",
       "count      5572                    5572\n",
       "unique        2                    5169\n",
       "top         ham  Sorry, I'll call later\n",
       "freq       4825                      30"
      ]
     },
     "execution_count": 6,
     "metadata": {},
     "output_type": "execute_result"
    }
   ],
   "source": [
    "Spam_Collection.describe()"
   ]
  },
  {
   "cell_type": "code",
   "execution_count": 7,
   "metadata": {},
   "outputs": [
    {
     "data": {
      "text/html": [
       "<div>\n",
       "<style scoped>\n",
       "    .dataframe tbody tr th:only-of-type {\n",
       "        vertical-align: middle;\n",
       "    }\n",
       "\n",
       "    .dataframe tbody tr th {\n",
       "        vertical-align: top;\n",
       "    }\n",
       "\n",
       "    .dataframe thead tr th {\n",
       "        text-align: left;\n",
       "    }\n",
       "\n",
       "    .dataframe thead tr:last-of-type th {\n",
       "        text-align: right;\n",
       "    }\n",
       "</style>\n",
       "<table border=\"1\" class=\"dataframe\">\n",
       "  <thead>\n",
       "    <tr>\n",
       "      <th></th>\n",
       "      <th colspan=\"4\" halign=\"left\">message</th>\n",
       "    </tr>\n",
       "    <tr>\n",
       "      <th></th>\n",
       "      <th>count</th>\n",
       "      <th>unique</th>\n",
       "      <th>top</th>\n",
       "      <th>freq</th>\n",
       "    </tr>\n",
       "    <tr>\n",
       "      <th>response</th>\n",
       "      <th></th>\n",
       "      <th></th>\n",
       "      <th></th>\n",
       "      <th></th>\n",
       "    </tr>\n",
       "  </thead>\n",
       "  <tbody>\n",
       "    <tr>\n",
       "      <td>ham</td>\n",
       "      <td>4825</td>\n",
       "      <td>4516</td>\n",
       "      <td>Sorry, I'll call later</td>\n",
       "      <td>30</td>\n",
       "    </tr>\n",
       "    <tr>\n",
       "      <td>spam</td>\n",
       "      <td>747</td>\n",
       "      <td>653</td>\n",
       "      <td>Please call our customer service representativ...</td>\n",
       "      <td>4</td>\n",
       "    </tr>\n",
       "  </tbody>\n",
       "</table>\n",
       "</div>"
      ],
      "text/plain": [
       "         message                                                            \\\n",
       "           count unique                                                top   \n",
       "response                                                                     \n",
       "ham         4825   4516                             Sorry, I'll call later   \n",
       "spam         747    653  Please call our customer service representativ...   \n",
       "\n",
       "               \n",
       "         freq  \n",
       "response       \n",
       "ham        30  \n",
       "spam        4  "
      ]
     },
     "execution_count": 7,
     "metadata": {},
     "output_type": "execute_result"
    }
   ],
   "source": [
    "Spam_Collection.groupby('response').describe()\n"
   ]
  },
  {
   "cell_type": "code",
   "execution_count": 8,
   "metadata": {},
   "outputs": [
    {
     "data": {
      "text/plain": [
       "<function len(obj, /)>"
      ]
     },
     "execution_count": 8,
     "metadata": {},
     "output_type": "execute_result"
    }
   ],
   "source": [
    "len"
   ]
  },
  {
   "cell_type": "code",
   "execution_count": 9,
   "metadata": {},
   "outputs": [
    {
     "data": {
      "text/plain": [
       "5572"
      ]
     },
     "execution_count": 9,
     "metadata": {},
     "output_type": "execute_result"
    }
   ],
   "source": [
    "len(Spam_Collection.message)"
   ]
  },
  {
   "cell_type": "code",
   "execution_count": 10,
   "metadata": {},
   "outputs": [],
   "source": [
    "Spam_Collection['length'] = Spam_Collection['message'].apply(len)"
   ]
  },
  {
   "cell_type": "code",
   "execution_count": 11,
   "metadata": {},
   "outputs": [
    {
     "data": {
      "text/html": [
       "<div>\n",
       "<style scoped>\n",
       "    .dataframe tbody tr th:only-of-type {\n",
       "        vertical-align: middle;\n",
       "    }\n",
       "\n",
       "    .dataframe tbody tr th {\n",
       "        vertical-align: top;\n",
       "    }\n",
       "\n",
       "    .dataframe thead th {\n",
       "        text-align: right;\n",
       "    }\n",
       "</style>\n",
       "<table border=\"1\" class=\"dataframe\">\n",
       "  <thead>\n",
       "    <tr style=\"text-align: right;\">\n",
       "      <th></th>\n",
       "      <th>response</th>\n",
       "      <th>message</th>\n",
       "      <th>length</th>\n",
       "    </tr>\n",
       "  </thead>\n",
       "  <tbody>\n",
       "    <tr>\n",
       "      <td>0</td>\n",
       "      <td>ham</td>\n",
       "      <td>Go until jurong point, crazy.. Available only ...</td>\n",
       "      <td>111</td>\n",
       "    </tr>\n",
       "    <tr>\n",
       "      <td>1</td>\n",
       "      <td>ham</td>\n",
       "      <td>Ok lar... Joking wif u oni...</td>\n",
       "      <td>29</td>\n",
       "    </tr>\n",
       "    <tr>\n",
       "      <td>2</td>\n",
       "      <td>spam</td>\n",
       "      <td>Free entry in 2 a wkly comp to win FA Cup fina...</td>\n",
       "      <td>155</td>\n",
       "    </tr>\n",
       "    <tr>\n",
       "      <td>3</td>\n",
       "      <td>ham</td>\n",
       "      <td>U dun say so early hor... U c already then say...</td>\n",
       "      <td>49</td>\n",
       "    </tr>\n",
       "    <tr>\n",
       "      <td>4</td>\n",
       "      <td>ham</td>\n",
       "      <td>Nah I don't think he goes to usf, he lives aro...</td>\n",
       "      <td>61</td>\n",
       "    </tr>\n",
       "  </tbody>\n",
       "</table>\n",
       "</div>"
      ],
      "text/plain": [
       "  response                                            message  length\n",
       "0      ham  Go until jurong point, crazy.. Available only ...     111\n",
       "1      ham                      Ok lar... Joking wif u oni...      29\n",
       "2     spam  Free entry in 2 a wkly comp to win FA Cup fina...     155\n",
       "3      ham  U dun say so early hor... U c already then say...      49\n",
       "4      ham  Nah I don't think he goes to usf, he lives aro...      61"
      ]
     },
     "execution_count": 11,
     "metadata": {},
     "output_type": "execute_result"
    }
   ],
   "source": [
    "Spam_Collection.head()"
   ]
  },
  {
   "cell_type": "code",
   "execution_count": 12,
   "metadata": {},
   "outputs": [
    {
     "data": {
      "text/plain": [
       "910"
      ]
     },
     "execution_count": 12,
     "metadata": {},
     "output_type": "execute_result"
    }
   ],
   "source": [
    "max(Spam_Collection.length)"
   ]
  },
  {
   "cell_type": "code",
   "execution_count": 13,
   "metadata": {},
   "outputs": [
    {
     "data": {
      "text/plain": [
       "2"
      ]
     },
     "execution_count": 13,
     "metadata": {},
     "output_type": "execute_result"
    }
   ],
   "source": [
    "min(Spam_Collection.length)"
   ]
  },
  {
   "cell_type": "code",
   "execution_count": 14,
   "metadata": {},
   "outputs": [
    {
     "data": {
      "text/plain": [
       "Index(['response', 'message', 'length'], dtype='object')"
      ]
     },
     "execution_count": 14,
     "metadata": {},
     "output_type": "execute_result"
    }
   ],
   "source": [
    "Spam_Collection.columns"
   ]
  },
  {
   "cell_type": "code",
   "execution_count": 15,
   "metadata": {},
   "outputs": [],
   "source": [
    "from sklearn.model_selection import train_test_split\n",
    "Z=Spam_Collection.drop(\"response\",1)\n",
    "X=Z.drop(\"length\",1)\n",
    "Y=Spam_Collection.response\n"
   ]
  },
  {
   "cell_type": "code",
   "execution_count": 16,
   "metadata": {},
   "outputs": [],
   "source": [
    "X_train, X_test, Y_train, Y_test = train_test_split(X,Y, test_size=0.25, random_state=1) \n"
   ]
  },
  {
   "cell_type": "code",
   "execution_count": 17,
   "metadata": {},
   "outputs": [
    {
     "name": "stdout",
     "output_type": "stream",
     "text": [
      "(4179, 1)\n",
      "(1393, 1)\n",
      "(4179,)\n",
      "(1393,)\n"
     ]
    }
   ],
   "source": [
    "print(X_train.shape)\n",
    "print(X_test.shape)\n",
    "print(Y_train.shape)\n",
    "print(Y_test.shape)\n",
    "\n"
   ]
  },
  {
   "cell_type": "code",
   "execution_count": null,
   "metadata": {},
   "outputs": [],
   "source": []
  },
  {
   "cell_type": "code",
   "execution_count": 18,
   "metadata": {},
   "outputs": [
    {
     "data": {
      "text/plain": [
       "'!\"#$%&\\'()*+,-./:;<=>?@[\\\\]^_`{|}~'"
      ]
     },
     "execution_count": 18,
     "metadata": {},
     "output_type": "execute_result"
    }
   ],
   "source": [
    "string.punctuation"
   ]
  },
  {
   "cell_type": "code",
   "execution_count": null,
   "metadata": {},
   "outputs": [],
   "source": []
  },
  {
   "cell_type": "code",
   "execution_count": 19,
   "metadata": {},
   "outputs": [],
   "source": [
    "No_Punctuation= [char for char in Spam_Collection.message[0] if char not in string.punctuation]"
   ]
  },
  {
   "cell_type": "code",
   "execution_count": 20,
   "metadata": {},
   "outputs": [
    {
     "data": {
      "text/plain": [
       "['G',\n",
       " 'o',\n",
       " ' ',\n",
       " 'u',\n",
       " 'n',\n",
       " 't',\n",
       " 'i',\n",
       " 'l',\n",
       " ' ',\n",
       " 'j',\n",
       " 'u',\n",
       " 'r',\n",
       " 'o',\n",
       " 'n',\n",
       " 'g',\n",
       " ' ',\n",
       " 'p',\n",
       " 'o',\n",
       " 'i',\n",
       " 'n',\n",
       " 't',\n",
       " ' ',\n",
       " 'c',\n",
       " 'r',\n",
       " 'a',\n",
       " 'z',\n",
       " 'y',\n",
       " ' ',\n",
       " 'A',\n",
       " 'v',\n",
       " 'a',\n",
       " 'i',\n",
       " 'l',\n",
       " 'a',\n",
       " 'b',\n",
       " 'l',\n",
       " 'e',\n",
       " ' ',\n",
       " 'o',\n",
       " 'n',\n",
       " 'l',\n",
       " 'y',\n",
       " ' ',\n",
       " 'i',\n",
       " 'n',\n",
       " ' ',\n",
       " 'b',\n",
       " 'u',\n",
       " 'g',\n",
       " 'i',\n",
       " 's',\n",
       " ' ',\n",
       " 'n',\n",
       " ' ',\n",
       " 'g',\n",
       " 'r',\n",
       " 'e',\n",
       " 'a',\n",
       " 't',\n",
       " ' ',\n",
       " 'w',\n",
       " 'o',\n",
       " 'r',\n",
       " 'l',\n",
       " 'd',\n",
       " ' ',\n",
       " 'l',\n",
       " 'a',\n",
       " ' ',\n",
       " 'e',\n",
       " ' ',\n",
       " 'b',\n",
       " 'u',\n",
       " 'f',\n",
       " 'f',\n",
       " 'e',\n",
       " 't',\n",
       " ' ',\n",
       " 'C',\n",
       " 'i',\n",
       " 'n',\n",
       " 'e',\n",
       " ' ',\n",
       " 't',\n",
       " 'h',\n",
       " 'e',\n",
       " 'r',\n",
       " 'e',\n",
       " ' ',\n",
       " 'g',\n",
       " 'o',\n",
       " 't',\n",
       " ' ',\n",
       " 'a',\n",
       " 'm',\n",
       " 'o',\n",
       " 'r',\n",
       " 'e',\n",
       " ' ',\n",
       " 'w',\n",
       " 'a',\n",
       " 't']"
      ]
     },
     "execution_count": 20,
     "metadata": {},
     "output_type": "execute_result"
    }
   ],
   "source": [
    "No_Punctuation"
   ]
  },
  {
   "cell_type": "code",
   "execution_count": 21,
   "metadata": {},
   "outputs": [],
   "source": [
    "No_Punctuation_Msg=''.join(No_Punctuation)"
   ]
  },
  {
   "cell_type": "code",
   "execution_count": 22,
   "metadata": {},
   "outputs": [
    {
     "data": {
      "text/plain": [
       "'Go until jurong point crazy Available only in bugis n great world la e buffet Cine there got amore wat'"
      ]
     },
     "execution_count": 22,
     "metadata": {},
     "output_type": "execute_result"
    }
   ],
   "source": [
    "No_Punctuation_Msg"
   ]
  },
  {
   "cell_type": "code",
   "execution_count": 23,
   "metadata": {},
   "outputs": [
    {
     "data": {
      "text/plain": [
       "'Go until jurong point, crazy.. Available only in bugis n great world la e buffet... Cine there got amore wat...'"
      ]
     },
     "execution_count": 23,
     "metadata": {},
     "output_type": "execute_result"
    }
   ],
   "source": [
    "Spam_Collection.message[0]"
   ]
  },
  {
   "cell_type": "code",
   "execution_count": 24,
   "metadata": {},
   "outputs": [
    {
     "data": {
      "text/plain": [
       "['Go',\n",
       " 'until',\n",
       " 'jurong',\n",
       " 'point',\n",
       " 'crazy',\n",
       " 'Available',\n",
       " 'only',\n",
       " 'in',\n",
       " 'bugis',\n",
       " 'n',\n",
       " 'great',\n",
       " 'world',\n",
       " 'la',\n",
       " 'e',\n",
       " 'buffet',\n",
       " 'Cine',\n",
       " 'there',\n",
       " 'got',\n",
       " 'amore',\n",
       " 'wat']"
      ]
     },
     "execution_count": 24,
     "metadata": {},
     "output_type": "execute_result"
    }
   ],
   "source": [
    "No_Punctuation_Msg.split()"
   ]
  },
  {
   "cell_type": "code",
   "execution_count": 25,
   "metadata": {},
   "outputs": [],
   "source": [
    "import nltk"
   ]
  },
  {
   "cell_type": "code",
   "execution_count": 26,
   "metadata": {},
   "outputs": [],
   "source": [
    "import string\n",
    "from nltk.corpus import stopwords"
   ]
  },
  {
   "cell_type": "code",
   "execution_count": 27,
   "metadata": {},
   "outputs": [
    {
     "data": {
      "text/plain": [
       "['i', 'me', 'my', 'myself', 'we', 'our', 'ours', 'ourselves', 'you', \"you're\"]"
      ]
     },
     "execution_count": 27,
     "metadata": {},
     "output_type": "execute_result"
    }
   ],
   "source": [
    "a=stopwords.words(\"english\")[0:10]\n",
    "a"
   ]
  },
  {
   "cell_type": "code",
   "execution_count": 28,
   "metadata": {},
   "outputs": [
    {
     "data": {
      "text/plain": [
       "['until', 'only', 'in', 'there']"
      ]
     },
     "execution_count": 28,
     "metadata": {},
     "output_type": "execute_result"
    }
   ],
   "source": [
    "Clean_Sentence=[ word for word in No_Punctuation_Msg.split() if word.lower() in stopwords.words(\"english\")]\n",
    "Clean_Sentence"
   ]
  },
  {
   "cell_type": "code",
   "execution_count": 29,
   "metadata": {},
   "outputs": [],
   "source": [
    "stopwords_json = pd.read_json(\"https://raw.githubusercontent.com/6/stopwords-json/master/dist/en.json\" )\n",
    "stopwords_json.head(3)\n",
    "stopwords_json.columns = [\"en\"]\n",
    "x = stopwords.words(\"english\")"
   ]
  },
  {
   "cell_type": "code",
   "execution_count": 30,
   "metadata": {},
   "outputs": [],
   "source": [
    "stopwords_json_en = set(stopwords_json['en'])\n",
    "stopwords_nltk_en = set(x)\n",
    "stoplist_combined = set.union(stopwords_json_en, stopwords_nltk_en)"
   ]
  },
  {
   "cell_type": "code",
   "execution_count": 31,
   "metadata": {},
   "outputs": [],
   "source": [
    "def cleanup_text(msg):\n",
    "    No_Punctuation = [char for char in msg if char not in string.punctuation]\n",
    "    No_Punctuation_Msg = ''.join(No_Punctuation) #joins all the strings\n",
    "    return [word.lower() for word in No_Punctuation_Msg.split() if word.lower() not in stoplist_combined]"
   ]
  },
  {
   "cell_type": "code",
   "execution_count": 32,
   "metadata": {},
   "outputs": [],
   "source": [
    "#Cleaned['message'] = X_train['message'].head().apply(cleanup_text)\n",
    "#Cleaned.message"
   ]
  },
  {
   "cell_type": "code",
   "execution_count": 33,
   "metadata": {},
   "outputs": [
    {
     "data": {
      "text/plain": [
       "710     4mths half price Orange line rental & latest c...\n",
       "3740                           Did you stitch his trouser\n",
       "2711    Hope you enjoyed your new content. text stop t...\n",
       "3155    Not heard from U4 a while. Call 4 rude chat pr...\n",
       "3748    Ü neva tell me how i noe... I'm not at home in...\n",
       "                              ...                        \n",
       "905     We're all getting worried over here, derek and...\n",
       "5192    Oh oh... Den muz change plan liao... Go back h...\n",
       "3980    CERI U REBEL! SWEET DREAMZ ME LITTLE BUDDY!! C...\n",
       "235     Text & meet someone sexy today. U can find a d...\n",
       "5157                              K k:) sms chat with me.\n",
       "Name: message, Length: 4179, dtype: object"
      ]
     },
     "execution_count": 33,
     "metadata": {},
     "output_type": "execute_result"
    }
   ],
   "source": [
    "X_train.message"
   ]
  },
  {
   "cell_type": "code",
   "execution_count": 34,
   "metadata": {},
   "outputs": [],
   "source": [
    "#Clean['message'] = X_test['message'].head().apply(cleanup_text)\n",
    "#Clean.message"
   ]
  },
  {
   "cell_type": "code",
   "execution_count": 35,
   "metadata": {},
   "outputs": [],
   "source": [
    "import sklearn\n",
    "from sklearn.feature_extraction.text import CountVectorizer"
   ]
  },
  {
   "cell_type": "code",
   "execution_count": 36,
   "metadata": {},
   "outputs": [],
   "source": [
    "import re"
   ]
  },
  {
   "cell_type": "code",
   "execution_count": 37,
   "metadata": {},
   "outputs": [],
   "source": [
    "def stemming_tokenizer(str_input):\n",
    "    words = re.sub(r\"[^A-Za-z0-9\\-]\", \" \", str_input).lower().split()\n",
    "    words = [porter_stemmer.stem(word) for word in words]\n",
    "    return words"
   ]
  },
  {
   "cell_type": "code",
   "execution_count": 38,
   "metadata": {},
   "outputs": [
    {
     "name": "stdout",
     "output_type": "stream",
     "text": [
      "CountVectorizer(analyzer=<function cleanup_text at 0x000002B58A1E5678>,\n",
      "                binary=False, decode_error='strict',\n",
      "                dtype=<class 'numpy.int64'>, encoding='utf-8', input='content',\n",
      "                lowercase=True, max_df=1.0, max_features=None, min_df=1,\n",
      "                ngram_range=(1, 1), preprocessor=None, stop_words=None,\n",
      "                strip_accents=None, token_pattern='(?u)\\\\b\\\\w\\\\w+\\\\b',\n",
      "                tokenizer=None, vocabulary=None)\n"
     ]
    }
   ],
   "source": [
    "bag_of_words_tfrmr = CountVectorizer(analyzer= cleanup_text).fit(X_train['message'])\n",
    "print(bag_of_words_tfrmr)"
   ]
  },
  {
   "cell_type": "code",
   "execution_count": 39,
   "metadata": {},
   "outputs": [
    {
     "data": {
      "text/plain": [
       "[('4mths', 527),\n",
       " ('half', 3260),\n",
       " ('price', 5369),\n",
       " ('orange', 4959),\n",
       " ('line', 4112),\n",
       " ('rental', 5658),\n",
       " ('latest', 4022),\n",
       " ('camera', 1607),\n",
       " ('phones', 5161),\n",
       " ('4', 481),\n",
       " ('free', 2925),\n",
       " ('phone', 5157),\n",
       " ('11mths', 265),\n",
       " ('call', 1575),\n",
       " ('mobilesdirect', 4534),\n",
       " ('08000938767', 46),\n",
       " ('update', 7096),\n",
       " ('or2stoptxt', 4957),\n",
       " ('tcs', 6660),\n",
       " ('stitch', 6413),\n",
       " ('trouser', 6969),\n",
       " ('hope', 3456),\n",
       " ('enjoyed', 2575),\n",
       " ('content', 1961),\n",
       " ('text', 6718),\n",
       " ('stop', 6423),\n",
       " ('61610', 583),\n",
       " ('unsubscribe', 7089),\n",
       " ('help08712400602450p', 3355),\n",
       " ('provided', 5436),\n",
       " ('tones2youcouk', 6891),\n",
       " ('heard', 3328),\n",
       " ('u4', 7032),\n",
       " ('rude', 5801),\n",
       " ('chat', 1730),\n",
       " ('private', 5383),\n",
       " ('01223585334', 4),\n",
       " ('cum', 2085),\n",
       " ('wan', 7282),\n",
       " ('2c', 388),\n",
       " ('pics', 5175),\n",
       " ('gettin', 3071),\n",
       " ('shagged', 5986),\n",
       " ('pix', 5197),\n",
       " ('8552', 688),\n",
       " ('2end', 393),\n",
       " ('send', 5947),\n",
       " ('sam', 5846),\n",
       " ('xxx', 7611),\n",
       " ('ü', 7760),\n",
       " ('neva', 4725),\n",
       " ('noe', 4780),\n",
       " ('im', 3586),\n",
       " ('home', 3437),\n",
       " ('da', 2111),\n",
       " ('aft', 862),\n",
       " ('wat', 7304),\n",
       " ('wiskey', 7451),\n",
       " ('brandy', 1449),\n",
       " ('rum', 5808),\n",
       " ('gin', 3084),\n",
       " ('beer', 1262),\n",
       " ('vodka', 7227),\n",
       " ('scotch', 5896),\n",
       " ('shampain', 5995),\n",
       " ('wine', 7433),\n",
       " ('kudiyarasu', 3970),\n",
       " ('dhina', 2281),\n",
       " ('vaazhthukkal', 7149),\n",
       " ('seeking', 5932),\n",
       " ('lady', 3990),\n",
       " ('street', 6443),\n",
       " ('freak', 2921),\n",
       " ('sheets', 6007),\n",
       " ('lol', 4170),\n",
       " ('drunkard', 2460),\n",
       " ('hair', 3256),\n",
       " ('moment', 4551),\n",
       " ('yeah', 7635),\n",
       " ('tonight', 6894),\n",
       " ('wats', 7316),\n",
       " ('plan', 5206),\n",
       " ('turning', 7002),\n",
       " ('moms', 4553),\n",
       " ('telling', 6686),\n",
       " ('cancer', 1616),\n",
       " ('sister', 6112),\n",
       " ('wont', 7486),\n",
       " ('calling', 1594),\n",
       " ('hurts', 3536),\n",
       " ('talk', 6625),\n",
       " ('put', 5470),\n",
       " ('love', 4213),\n",
       " ('coming', 1894),\n",
       " ('back', 1173),\n",
       " ('dinner', 2318),\n",
       " ('rite', 5749),\n",
       " ('dad', 2114),\n",
       " ('confirm', 1939),\n",
       " ('wif', 7416),\n",
       " ('ah', 882),\n",
       " ('poor', 5272),\n",
       " ('babyhope', 1169),\n",
       " ('urfeeling', 7115),\n",
       " ('bettersn', 1297),\n",
       " ('luv', 4257),\n",
       " ('probthat', 5398),\n",
       " ('overdose', 4999),\n",
       " ('work', 7499),\n",
       " ('hey', 3379),\n",
       " ('careful', 1637),\n",
       " ('spk', 6311),\n",
       " ('2', 342),\n",
       " ('sn', 6194),\n",
       " ('lots', 4201),\n",
       " ('lovejen', 4215),\n",
       " ('gam', 3011),\n",
       " ('outstanding', 4996),\n",
       " ('innings', 3649),\n",
       " ('nicenicehow', 4742),\n",
       " ('working', 7503),\n",
       " ('haha', 3252),\n",
       " ('kidding', 3913),\n",
       " ('papa', 5036),\n",
       " ('drugs', 2458),\n",
       " ('chief', 1767),\n",
       " ('give', 3092),\n",
       " ('bell', 1277),\n",
       " ('royal', 5788),\n",
       " ('visit', 7217),\n",
       " ('1st', 332),\n",
       " ('june', 3854),\n",
       " ('ugh', 7035),\n",
       " ('long', 4177),\n",
       " ('day', 2161),\n",
       " ('exhausted', 2657),\n",
       " ('cuddle', 2080),\n",
       " ('nap', 4678),\n",
       " ('awesome', 1149),\n",
       " ('time', 6824),\n",
       " ('ltgt', 4240),\n",
       " ('ill', 3582),\n",
       " ('details', 2266),\n",
       " ('wee', 7344),\n",
       " ('bit', 1330),\n",
       " ('lor', 4189),\n",
       " ('thk', 6780),\n",
       " ('tickets', 6814),\n",
       " ('cos', 1997),\n",
       " ('late', 4019),\n",
       " ('ur', 7113),\n",
       " ('frens', 2942),\n",
       " ('darren', 2144),\n",
       " ('dont', 2395),\n",
       " ('bring', 1474),\n",
       " ('food', 2872),\n",
       " ('reason', 5571),\n",
       " ('weve', 7385),\n",
       " ('spoken', 6322),\n",
       " ('year', 7637),\n",
       " ('great', 3185),\n",
       " ('week', 7346),\n",
       " ('exam', 2645),\n",
       " ('make', 4310),\n",
       " ('3', 429),\n",
       " ('fucks', 2979),\n",
       " ('sake', 5834),\n",
       " ('place', 5201),\n",
       " ('town', 6927),\n",
       " ('meet', 4400),\n",
       " ('exciting', 2649),\n",
       " ('adult', 842),\n",
       " ('singles', 6104),\n",
       " ('uk', 7040),\n",
       " ('txt', 7015),\n",
       " ('86688', 693),\n",
       " ('150pmsg', 291),\n",
       " ('man', 4320),\n",
       " ('print', 5378),\n",
       " ('outs', 4993),\n",
       " ('room', 5773),\n",
       " ('leave', 4051),\n",
       " ('st', 6351),\n",
       " ('andre', 962),\n",
       " ('virgils', 7211),\n",
       " ('cream', 2045),\n",
       " ('yoyyooo', 7688),\n",
       " ('change', 1710),\n",
       " ('permissions', 5125),\n",
       " ('drive', 2446),\n",
       " ('mac', 4278),\n",
       " ('usb', 7127),\n",
       " ('flash', 2836),\n",
       " ('sunshine', 6537),\n",
       " ('quiz', 5497),\n",
       " ('wkly', 7463),\n",
       " ('win', 7427),\n",
       " ('top', 6907),\n",
       " ('sony', 6238),\n",
       " ('dvd', 2484),\n",
       " ('player', 5215),\n",
       " ('country', 2013),\n",
       " ('algarve', 920),\n",
       " ('ansr', 977),\n",
       " ('82277', 662),\n",
       " ('£150', 7724),\n",
       " ('sptyrone', 6341),\n",
       " ('dear', 2183),\n",
       " ('birthday', 1328),\n",
       " ('loving', 4224),\n",
       " ('gopalettan', 3151),\n",
       " ('planning', 5211),\n",
       " ('small', 6168),\n",
       " ('gift', 3078),\n",
       " ('participate', 5060),\n",
       " ('contact', 1958),\n",
       " ('admin', 828),\n",
       " ('team', 6670),\n",
       " ('class', 1820),\n",
       " ('hours', 3477),\n",
       " ('wait', 7261),\n",
       " ('rushing', 5817),\n",
       " ('school', 5888),\n",
       " ('rush', 5816),\n",
       " ('hungry', 3523),\n",
       " ('stops', 6429),\n",
       " ('find', 2805),\n",
       " ('hella', 3349),\n",
       " ('weed', 7345),\n",
       " ('smoke', 6183),\n",
       " ('awarded', 1148),\n",
       " ('city', 1812),\n",
       " ('break', 1456),\n",
       " ('£200', 7735),\n",
       " ('summer', 6528),\n",
       " ('shopping', 6042),\n",
       " ('spree', 6335),\n",
       " ('wk', 7459),\n",
       " ('store', 6432),\n",
       " ('88039skilgmetscs087147403231winawkage16£150perwksub', 704),\n",
       " ('pickle', 5174),\n",
       " ('isnt', 3719),\n",
       " ('frnd', 2961),\n",
       " ('necesity', 4699),\n",
       " ('life', 4090),\n",
       " ('imagine', 3589),\n",
       " ('urself', 7126),\n",
       " ('witout', 7456),\n",
       " ('hwd', 3542),\n",
       " ('feel', 2757),\n",
       " ('colleg', 1880),\n",
       " ('watll', 7314),\n",
       " ('wth', 7551),\n",
       " ('cell', 1693),\n",
       " ('abt', 775),\n",
       " ('functions', 2987),\n",
       " ('thnk', 6782),\n",
       " ('events', 2627),\n",
       " ('espell', 2609),\n",
       " ('cared', 1635),\n",
       " ('missed', 4500),\n",
       " ('amp', 952),\n",
       " ('irritated', 3707),\n",
       " ('4wrd', 539),\n",
       " ('dearloving', 2187),\n",
       " ('frnds', 2962),\n",
       " ('wthout', 7552),\n",
       " ('live', 4139),\n",
       " ('jst', 3842),\n",
       " ('takecare', 6619),\n",
       " ('goodmorning', 3141),\n",
       " ('brum', 1498),\n",
       " ('putting', 5473),\n",
       " ('keeping', 3891),\n",
       " ('happy', 3290),\n",
       " ('tellmiss', 6687),\n",
       " ('bloomberg', 1365),\n",
       " ('message', 4442),\n",
       " ('center', 1695),\n",
       " ('447797706009', 499),\n",
       " ('apply', 1015),\n",
       " ('future', 2996),\n",
       " ('httpcareers', 3497),\n",
       " ('bloombergcom', 1366),\n",
       " ('enjoy', 2574),\n",
       " ('plural', 5234),\n",
       " ('noun', 4823),\n",
       " ('research', 5680),\n",
       " ('checking', 1744),\n",
       " ('happening', 3285),\n",
       " ('area', 1037),\n",
       " ('aight', 894),\n",
       " ('sleepingand', 6145),\n",
       " ('surfing', 6557),\n",
       " ('cool', 1982),\n",
       " ('breeze', 1466),\n",
       " ('bright', 1469),\n",
       " ('sun', 6531),\n",
       " ('fresh', 2944),\n",
       " ('flower', 2855),\n",
       " ('twittering', 7013),\n",
       " ('birds', 1323),\n",
       " ('waiting', 7265),\n",
       " ('nice', 4741),\n",
       " ('ringtone', 5739),\n",
       " ('order', 4963),\n",
       " ('reference', 5612),\n",
       " ('number', 4846),\n",
       " ('x49', 7598),\n",
       " ('mobile', 4532),\n",
       " ('charged', 1719),\n",
       " ('450', 506),\n",
       " ('tone', 6888),\n",
       " ('arrive', 1063),\n",
       " ('customer', 2098),\n",
       " ('services', 5966),\n",
       " ('09065989182', 208),\n",
       " ('colourredtextcolourtxtstar', 1884),\n",
       " ('uncle', 7051),\n",
       " ('timi', 6830),\n",
       " ('clearing', 1829),\n",
       " ('cars', 1654),\n",
       " ('bad', 1176),\n",
       " ('totally', 6921),\n",
       " ('rejected', 5629),\n",
       " ('kinda', 3923),\n",
       " ('thing', 6771),\n",
       " ('prices', 5370),\n",
       " ('darlin', 2141),\n",
       " ('london', 4174),\n",
       " ('smashed', 6173),\n",
       " ('driver', 2447),\n",
       " ('big', 1309),\n",
       " ('dent', 2241),\n",
       " ('missing', 4502),\n",
       " ('tablets', 6607),\n",
       " ('reaction', 5552),\n",
       " ('morning', 4579),\n",
       " ('intention', 3669),\n",
       " ('run', 5811),\n",
       " ('choose', 1797),\n",
       " ('clean', 1824),\n",
       " ('visitors', 7219),\n",
       " ('choice', 1795),\n",
       " ('wanted', 7288),\n",
       " ('embarassed', 2551),\n",
       " ('youd', 7673),\n",
       " ('friend', 2951),\n",
       " ('drop', 2452),\n",
       " ('buy', 1546),\n",
       " ('happened', 3284),\n",
       " ('ive', 3747),\n",
       " ('picking', 5173),\n",
       " ('points', 5255),\n",
       " ('yeovil', 7644),\n",
       " ('motor', 4589),\n",
       " ('project', 5411),\n",
       " ('12', 266),\n",
       " ('530', 553),\n",
       " ('max', 4375),\n",
       " ('easy', 2503),\n",
       " ('test', 6713),\n",
       " ('fret', 2945),\n",
       " ('ovulation', 5005),\n",
       " ('strips', 6454),\n",
       " ('til', 6822),\n",
       " ('march', 4340),\n",
       " ('postal', 5293),\n",
       " ('addressull', 825),\n",
       " ('alrightokay', 936),\n",
       " ('loyalty', 4232),\n",
       " ('offerthe', 4886),\n",
       " ('nokia6650', 4791),\n",
       " ('£10', 7715),\n",
       " ('txtauction', 7017),\n",
       " ('word', 7494),\n",
       " ('start', 6373),\n",
       " ('81151', 658),\n",
       " ('4tctxt', 532),\n",
       " ('tc', 6657),\n",
       " ('150pmtmsg', 294),\n",
       " ('remember', 5643),\n",
       " ('alex', 917),\n",
       " ('pizza', 5199),\n",
       " ('av', 1130),\n",
       " ('wil', 7423),\n",
       " ('oneta', 4925),\n",
       " ('urgent', 7116),\n",
       " ('todays', 6867),\n",
       " ('draw', 2430),\n",
       " ('shows', 6064),\n",
       " ('£800', 7756),\n",
       " ('prize', 5386),\n",
       " ('guaranteed', 3216),\n",
       " ('09050001808', 151),\n",
       " ('land', 3999),\n",
       " ('claim', 1815),\n",
       " ('m95', 4274),\n",
       " ('valid12hrs', 7157),\n",
       " ('babe', 1164),\n",
       " ('lost', 4198),\n",
       " ('painful', 5022),\n",
       " ('personal', 5130),\n",
       " ('thought', 6789),\n",
       " ('recognises', 5600),\n",
       " ('subscribed', 6495),\n",
       " ('service', 5965),\n",
       " ('£3', 7739),\n",
       " ('10', 239),\n",
       " ('days', 2164),\n",
       " ('82324', 664),\n",
       " ('helpline', 3359),\n",
       " ('08706091795', 76),\n",
       " ('baskets', 1212),\n",
       " ('full', 2982),\n",
       " ('mum', 4633),\n",
       " ('messages', 4447),\n",
       " ('rest', 5700),\n",
       " ('january', 3774),\n",
       " ('male', 4317),\n",
       " ('sale', 5838),\n",
       " ('hot', 3471),\n",
       " ('gay', 3029),\n",
       " ('cheaper', 1737),\n",
       " ('08709222922', 81),\n",
       " ('national', 4686),\n",
       " ('rate', 5534),\n",
       " ('15pmin', 305),\n",
       " ('cheap', 1736),\n",
       " ('78pmin', 630),\n",
       " ('peak', 5100),\n",
       " ('texts', 6728),\n",
       " ('08712460324', 100),\n",
       " ('10pmin', 254),\n",
       " ('honesty', 3444),\n",
       " ('road', 5752),\n",
       " ('bank', 1194),\n",
       " ('tomorrow', 6885),\n",
       " ('tough', 6925),\n",
       " ('decisions', 2204),\n",
       " ('people', 5112),\n",
       " ('womdarfull', 7479),\n",
       " ('actor', 813),\n",
       " ('congrats', 1944),\n",
       " ('1', 238),\n",
       " ('special', 6283),\n",
       " ('cinema', 1810),\n",
       " ('pass', 5066),\n",
       " ('09061209465', 173),\n",
       " ('suprman', 6553),\n",
       " ('matrix3', 4369),\n",
       " ('starwars3', 6378),\n",
       " ('bx420ip45we', 1557),\n",
       " ('150pm', 288),\n",
       " ('miss', 4498),\n",
       " ('movie', 4596),\n",
       " ('juz', 3861),\n",
       " ('minute', 4487),\n",
       " ('decision', 2203),\n",
       " ('mah', 4299),\n",
       " ('watch', 7305),\n",
       " ('lar', 4010),\n",
       " ('tot', 6919),\n",
       " ('interested', 3671),\n",
       " ('lateso', 4021),\n",
       " ('morningtake', 4580),\n",
       " ('care', 1633),\n",
       " ('sweet', 6580),\n",
       " ('dreamsu', 2438),\n",
       " ('meummifyingbye', 4455),\n",
       " ('gud', 3218),\n",
       " ('ni8', 4739),\n",
       " ('dearslp', 2192),\n",
       " ('welltake', 7366),\n",
       " ('careswt', 1642),\n",
       " ('dreamsmuah', 2436),\n",
       " ('youdoing', 7675),\n",
       " ('sar', 5855),\n",
       " ('money', 4557),\n",
       " ('09050000460', 146),\n",
       " ('j89', 3757),\n",
       " ('po', 5238),\n",
       " ('box245c2150pm', 1424),\n",
       " ('issue', 3720),\n",
       " ('weigh', 7353),\n",
       " ('breathe', 1463),\n",
       " ('easier', 2498),\n",
       " ('regret', 5626),\n",
       " ('gr8', 3165),\n",
       " ('leaving', 4053),\n",
       " ('plans', 5212),\n",
       " ('havent', 3311),\n",
       " ('sir', 6107),\n",
       " ('group', 3200),\n",
       " ('mail', 4301),\n",
       " ('check', 1741),\n",
       " ('hit', 3403),\n",
       " ('cash', 1659),\n",
       " ('girl', 3085),\n",
       " ('2004', 347),\n",
       " ('account', 793),\n",
       " ('statement', 6379),\n",
       " ('07742676969', 26),\n",
       " ('786', 628),\n",
       " ('unredeemed', 7083),\n",
       " ('bonus', 1388),\n",
       " ('08719180248', 138),\n",
       " ('identifier', 3568),\n",
       " ('code', 1863),\n",
       " ('45239', 509),\n",
       " ('expires', 2673),\n",
       " ('ki', 3906),\n",
       " ('didt', 2298),\n",
       " ('youkwhere', 7678),\n",
       " ('mins', 4484),\n",
       " ('busy', 1542),\n",
       " ('finish', 2813),\n",
       " ('forward', 2904),\n",
       " ('finally', 2802),\n",
       " ('meeting', 4403),\n",
       " ('hmv', 3422),\n",
       " ('500', 543),\n",
       " ('pounds', 5306),\n",
       " ('genuine', 3060),\n",
       " ('vouchers', 7237),\n",
       " ('answer', 978),\n",
       " ('questions', 5490),\n",
       " ('play', 5213),\n",
       " ('infowww100percentrealcom', 3641),\n",
       " ('accidentally', 787),\n",
       " ('left', 4056),\n",
       " ('silent', 6091),\n",
       " ('night', 4749),\n",
       " ('didnt', 2294),\n",
       " ('ya', 7619),\n",
       " ('tht', 6805),\n",
       " ('incident', 3610),\n",
       " ('goodno', 3145),\n",
       " ('problembut', 5392),\n",
       " ('experience', 2668),\n",
       " ('understand', 7058),\n",
       " ('american', 945),\n",
       " ('voice', 7228),\n",
       " ('agents', 874),\n",
       " ('booked', 1392),\n",
       " ('things', 6772),\n",
       " ('boston', 1407),\n",
       " ('nyc', 4859),\n",
       " ('experiment', 2669),\n",
       " ('online', 4929),\n",
       " ('transaction', 6940),\n",
       " ('hostel', 3469),\n",
       " ('sleep', 6142),\n",
       " ('plz', 5236),\n",
       " ('hrishi', 3493),\n",
       " ('fuuuuck', 2997),\n",
       " ('sleepin', 6143),\n",
       " ('dude', 2470),\n",
       " ('makin', 4313),\n",
       " ('weirdy', 7361),\n",
       " ('brownies', 1494),\n",
       " ('made', 4291),\n",
       " ('cookies', 1980),\n",
       " ('secret', 5920),\n",
       " ('admirer', 830),\n",
       " ('ufind', 7034),\n",
       " ('rreveal', 5793),\n",
       " ('thinks', 6776),\n",
       " ('specialcall', 6284),\n",
       " ('09058094599', 168),\n",
       " ('sfrom', 5982),\n",
       " ('training', 6937),\n",
       " ('manual', 4334),\n",
       " ('show', 6057),\n",
       " ('tech', 6675),\n",
       " ('processits', 5400),\n",
       " ('password', 5073),\n",
       " ('reset', 5686),\n",
       " ('troubleshooting', 6968),\n",
       " ('computerless', 1926),\n",
       " ('oreo', 4966),\n",
       " ('truffles', 6974),\n",
       " ('watching', 7308),\n",
       " ('tv', 7005),\n",
       " ('job', 3813),\n",
       " ('hoping', 3459),\n",
       " ('game', 3012),\n",
       " ('yesterday', 7660),\n",
       " ('touch', 6923),\n",
       " ('pls', 5229),\n",
       " ('fondly', 2867),\n",
       " ('bein', 1275),\n",
       " ('thot', 6787),\n",
       " ('abiola', 767),\n",
       " ('nite', 4764),\n",
       " ('pocay', 5248),\n",
       " ('wocay', 7475),\n",
       " ('4eva', 520),\n",
       " ('promise', 5415),\n",
       " ('ring', 5737),\n",
       " ('2morrowxxxx', 407),\n",
       " ('yup', 7697),\n",
       " ('ku', 3968),\n",
       " ('msg', 4609),\n",
       " ('reply', 5669),\n",
       " ('whenwhere', 7396),\n",
       " ('pick', 5171),\n",
       " ('heart', 3331),\n",
       " ('empty', 2559),\n",
       " ('mind', 4475),\n",
       " ('wisdom', 7444),\n",
       " ('eyes', 2690),\n",
       " ('dreams', 2435),\n",
       " ('alwys', 941),\n",
       " ('good', 3133),\n",
       " ('itmail', 3734),\n",
       " ('panren', 5031),\n",
       " ('paru', 5064),\n",
       " ('wife', 7417),\n",
       " ('shell', 6009),\n",
       " ('relax', 5634),\n",
       " ('wkend', 7460),\n",
       " ('fun', 2985),\n",
       " ('forget', 2888),\n",
       " ('gbpsms', 3038),\n",
       " ('approve', 1020),\n",
       " ('panalambut', 5026),\n",
       " ('posts', 5300),\n",
       " ('paid', 5020),\n",
       " ('commercial', 1899),\n",
       " ('hasbroin', 3299),\n",
       " ('august', 1121),\n",
       " ('jump', 3852),\n",
       " ('hoops', 3454),\n",
       " ('shut', 6073),\n",
       " ('omg', 4921),\n",
       " ('dream', 2433),\n",
       " ('kids', 3914),\n",
       " ('boys', 1441),\n",
       " ('pissed', 5195),\n",
       " ('told', 6874),\n",
       " ('mark', 4343),\n",
       " ('changing', 1712),\n",
       " ('diapers', 2289),\n",
       " ('owed', 5008),\n",
       " ('face', 2695),\n",
       " ('ey', 2688),\n",
       " ('calm', 1604),\n",
       " ('downon', 2421),\n",
       " ('theacusations', 6747),\n",
       " ('itxt', 3742),\n",
       " ('iwana', 3748),\n",
       " ('wotu', 7524),\n",
       " ('doin', 2383),\n",
       " ('thewend', 6766),\n",
       " ('haventcn', 3312),\n",
       " ('agesring', 876),\n",
       " ('up4', 7092),\n",
       " ('nething', 4720),\n",
       " ('satlove', 5866),\n",
       " ('theyre', 6767),\n",
       " ('dramatic', 2428),\n",
       " ('schools', 5889),\n",
       " ('closed', 1837),\n",
       " ('apparently', 1009),\n",
       " ('inch', 3608),\n",
       " ('snow', 6203),\n",
       " ('supposed', 6551),\n",
       " ('woke', 7476),\n",
       " ('blur', 1375),\n",
       " ('liao', 4079),\n",
       " ('oso', 4977),\n",
       " ('helloooo', 3351),\n",
       " ('wake', 7267),\n",
       " ('welcomes', 7363),\n",
       " ('joy', 3837),\n",
       " ('mrng', 4605),\n",
       " ('jason', 3778),\n",
       " ('hes', 3374),\n",
       " ('gonna', 3131),\n",
       " ('mallika', 4319),\n",
       " ('sherawat', 6011),\n",
       " ('lturlgt', 4243),\n",
       " ('wa', 7250),\n",
       " ('openin', 4940),\n",
       " ('sentence', 5957),\n",
       " ('formal', 2894),\n",
       " ('fine', 2807),\n",
       " ('tt', 6987),\n",
       " ('eatin', 2506),\n",
       " ('puttin', 5472),\n",
       " ('weighthaha', 7356),\n",
       " ('anythin', 993),\n",
       " ('alright', 935),\n",
       " ('tylers', 7026),\n",
       " ('minor', 4483),\n",
       " ('crisis', 2059),\n",
       " ('sooner', 6242),\n",
       " ('asap', 1071),\n",
       " ('min', 4472),\n",
       " ('erm', 2595),\n",
       " ('…', 7765),\n",
       " ('645pm', 588),\n",
       " ('thatll', 6743),\n",
       " ('park', 5054),\n",
       " ('treat', 6954),\n",
       " ('pendingi', 5109),\n",
       " ('dayswill', 2167),\n",
       " ('thrurespect', 6803),\n",
       " ('mother', 4583),\n",
       " ('homecheck', 3438),\n",
       " ('mails', 4305),\n",
       " ('alrite', 937),\n",
       " ('hunnywot', 3529),\n",
       " ('2nite', 413),\n",
       " ('end', 2561),\n",
       " ('goin', 3120),\n",
       " ('jus', 3858),\n",
       " ('pub', 5447),\n",
       " ('chillin', 1784),\n",
       " ('mo', 4528),\n",
       " ('bedroomlove', 1259),\n",
       " ('jen', 3792),\n",
       " ('aiyo', 903),\n",
       " ('meh', 4408),\n",
       " ('princess', 5377),\n",
       " ('times', 6828),\n",
       " ('problem', 5390),\n",
       " ('ew', 2643),\n",
       " ('friendship', 2955),\n",
       " ('poem', 5252),\n",
       " ('hear', 3327),\n",
       " ('fear', 2750),\n",
       " ('cheer', 1748),\n",
       " ('tear', 6671),\n",
       " ('added', 820),\n",
       " ('list', 4129),\n",
       " ('wwwfullonsmscom', 7568),\n",
       " ('sms', 6189),\n",
       " ('fullonsmscom', 2983),\n",
       " ('ignoring', 3576),\n",
       " ('datingi', 2153),\n",
       " ('started', 6374),\n",
       " ('sport', 6328),\n",
       " ('radio', 5507),\n",
       " ('connection', 1948),\n",
       " ('coincidence', 1868),\n",
       " ('hook', 3453),\n",
       " ('means', 4388),\n",
       " ('valuable', 7158),\n",
       " ('situations', 6119),\n",
       " ('loosing', 4187),\n",
       " ('sicomo', 6080),\n",
       " ('nolistened2the', 4794),\n",
       " ('plaid', 5205),\n",
       " ('albumquite', 911),\n",
       " ('gdthe', 3043),\n",
       " ('air1', 897),\n",
       " ('hilariousalso', 3392),\n",
       " ('bought\\x94braindance\\x94a', 1413),\n",
       " ('compofstuff', 1921),\n",
       " ('aphex\\x92s', 1001),\n",
       " ('abelu', 763),\n",
       " ('hav2hear', 3309),\n",
       " ('itc', 3725),\n",
       " ('xxxx', 7614),\n",
       " ('wana', 7284),\n",
       " ('praps', 5330),\n",
       " ('meant', 4389),\n",
       " ('goodo', 3147),\n",
       " ('stay', 6383),\n",
       " ('england', 2572),\n",
       " ('official', 4893),\n",
       " ('poly', 5259),\n",
       " ('colour', 1883),\n",
       " ('flag', 2832),\n",
       " ('yer', 7646),\n",
       " ('84199', 681),\n",
       " ('optout', 4956),\n",
       " ('eng', 2569),\n",
       " ('box39822', 1429),\n",
       " ('w111wx', 7243),\n",
       " ('honeybee', 3446),\n",
       " ('sweetest', 6581),\n",
       " ('world', 7506),\n",
       " ('god', 3113),\n",
       " ('laughed', 4026),\n",
       " ('waitu', 7266),\n",
       " ('havnt', 3315),\n",
       " ('met', 4454),\n",
       " ('person', 5129),\n",
       " ('reading', 5555),\n",
       " ('moral', 4575),\n",
       " ('crack', 2033),\n",
       " ('jokes', 3825),\n",
       " ('gmgngegn', 3102),\n",
       " ('study', 6472),\n",
       " ('tap', 6638),\n",
       " ('spile', 6304),\n",
       " ('gas', 3023),\n",
       " ('broad', 1482),\n",
       " ('canal', 1611),\n",
       " ('wan2', 7283),\n",
       " ('meetgreet', 4401),\n",
       " ('westlife', 7381),\n",
       " ('m8', 4272),\n",
       " ('tour', 6926),\n",
       " ('1unbreakable', 337),\n",
       " ('2untamed', 421),\n",
       " ('3unkempt', 475),\n",
       " ('83049', 667),\n",
       " ('cost', 1999),\n",
       " ('50p', 545),\n",
       " ('std', 6388),\n",
       " ('drunk', 2459),\n",
       " ('motherfucker', 4584),\n",
       " ('textbuddy', 6721),\n",
       " ('horny', 3461),\n",
       " ('guys', 3237),\n",
       " ('25p', 374),\n",
       " ('receive', 5586),\n",
       " ('search', 5913),\n",
       " ('postcode', 5295),\n",
       " ('gaytextbuddycom', 3033),\n",
       " ('89693', 721),\n",
       " ('08715500022', 115),\n",
       " ('rpl', 5790),\n",
       " ('cnl', 1853),\n",
       " ('hiya', 3408),\n",
       " ('weekend', 7348),\n",
       " ('usual', 7138),\n",
       " ('ard', 1035),\n",
       " ('smth', 6193),\n",
       " ('doc', 2366),\n",
       " ('gave', 3028),\n",
       " ('pain', 5021),\n",
       " ('meds', 4398),\n",
       " ('mahal', 4300),\n",
       " ('bus', 1536),\n",
       " ('ltdecimalgt', 4238),\n",
       " ('cooking', 1981),\n",
       " ('oops', 4936),\n",
       " ('tomo', 6882),\n",
       " ('station', 6380),\n",
       " ('dhoni', 2282),\n",
       " ('luck', 4245),\n",
       " ('titleso', 6845),\n",
       " ('waking', 7268),\n",
       " ('afternoon', 864),\n",
       " ('church', 1807),\n",
       " ('holla', 3433),\n",
       " ('salad', 5835),\n",
       " ('desert', 2256),\n",
       " ('beers', 1264),\n",
       " ('news', 4733),\n",
       " ('freefone', 2929),\n",
       " ('08006344447', 52),\n",
       " ('£1000', 7717),\n",
       " ('£2000', 7736),\n",
       " ('speak', 6281),\n",
       " ('operator', 4944),\n",
       " ('8hr', 726),\n",
       " ('trip', 6962),\n",
       " ('audition', 1117),\n",
       " ('wednesday', 7342),\n",
       " ('kkhow', 3937),\n",
       " ('whats', 7389),\n",
       " ('sleeping', 6144),\n",
       " ('printed', 5379),\n",
       " ('upstairs', 7110),\n",
       " ('wasnt', 7299),\n",
       " ('phoned', 5160),\n",
       " ('voda', 7225),\n",
       " ('numbers', 4848),\n",
       " ('ending', 2563),\n",
       " ('1225', 270),\n",
       " ('selected', 5937),\n",
       " ('£50award', 7750),\n",
       " ('match', 4362),\n",
       " ('08712300220', 88),\n",
       " ('quoting', 5502),\n",
       " ('3100', 439),\n",
       " ('standard', 6364),\n",
       " ('rates', 5535),\n",
       " ('app', 1008),\n",
       " ('today', 6863),\n",
       " ('accept', 782),\n",
       " ('dayu', 2170),\n",
       " ('brother', 1489),\n",
       " ('lover', 4218),\n",
       " ('dear1', 2184),\n",
       " ('best1', 1291),\n",
       " ('clos1', 1835),\n",
       " ('lvblefrnd', 4261),\n",
       " ('jstfrnd', 3843),\n",
       " ('cutefrnd', 2103),\n",
       " ('lifpartnr', 4096),\n",
       " ('belovd', 1282),\n",
       " ('swtheart', 6593),\n",
       " ('bstfrnd', 1503),\n",
       " ('rply', 5791),\n",
       " ('enemy', 2567),\n",
       " ('bloo', 1360),\n",
       " ('bowl', 1418),\n",
       " ('urgnt', 7120),\n",
       " ('wating', 7313),\n",
       " ('difficult', 2306),\n",
       " ('girls', 3089),\n",
       " ('companion', 1905),\n",
       " ('chef', 1754),\n",
       " ('listener', 4132),\n",
       " ('organizer', 4968),\n",
       " ('boyfriend', 1440),\n",
       " ('sympathetic', 6596),\n",
       " ('athletic', 1098),\n",
       " ('warm', 7292),\n",
       " ('courageous', 2018),\n",
       " ('determined', 2269),\n",
       " ('true', 6972),\n",
       " ('dependable', 2247),\n",
       " ('intelligent', 3667),\n",
       " ('psychologist', 5444),\n",
       " ('pest', 5137),\n",
       " ('exterminator', 2684),\n",
       " ('psychiatrist', 5442),\n",
       " ('healer', 3325),\n",
       " ('stylist', 6486),\n",
       " ('aaniye', 756),\n",
       " ('pudunga', 5452),\n",
       " ('venaam', 7175),\n",
       " ('request', 5674),\n",
       " ('maangalyam', 4276),\n",
       " ('alaipayuthe', 909),\n",
       " ('set', 5968),\n",
       " ('callertune', 1591),\n",
       " ('callers', 1590),\n",
       " ('press', 5359),\n",
       " ('9', 734),\n",
       " ('copy', 1988),\n",
       " ('friends', 2953),\n",
       " ('knowthis', 3954),\n",
       " ('tirunelvai', 6838),\n",
       " ('lick', 4085),\n",
       " ('pussy', 5469),\n",
       " ('inside', 3659),\n",
       " ('officestill', 4889),\n",
       " ('filling', 2793),\n",
       " ('formsdon', 2900),\n",
       " ('textin', 6724),\n",
       " ('bout', 1415),\n",
       " ('worries', 7514),\n",
       " ('photo', 5163),\n",
       " ('shoot', 6039),\n",
       " ('spiffing', 6303),\n",
       " ('workage', 7500),\n",
       " ('xclusiveclubsaisai', 7603),\n",
       " ('2morow', 404),\n",
       " ('285', 381),\n",
       " ('soiree', 6213),\n",
       " ('speciale', 6285),\n",
       " ('zouk', 7709),\n",
       " ('nichols', 4743),\n",
       " ('parisfree', 5052),\n",
       " ('roses', 5779),\n",
       " ('ladies', 3988),\n",
       " ('info', 3635),\n",
       " ('0794674629107880867867', 37),\n",
       " ('entry', 2587),\n",
       " ('textpod', 6727),\n",
       " ('chance', 1709),\n",
       " ('40gb', 488),\n",
       " ('ipod', 3700),\n",
       " ('£250', 7737),\n",
       " ('pod', 5251),\n",
       " ('84128', 679),\n",
       " ('tscs', 6981),\n",
       " ('wwwtextpodnet', 7591),\n",
       " ('custcare', 2095),\n",
       " ('08712405020', 98),\n",
       " ('shit', 6028),\n",
       " ('suite', 6522),\n",
       " ('xavier', 7601),\n",
       " ('decided', 2200),\n",
       " ('seconds', 5919),\n",
       " ('warning', 7296),\n",
       " ('samantha', 5847),\n",
       " ('playing', 5219),\n",
       " ('jays', 3783),\n",
       " ('guitar', 3231),\n",
       " ('impress', 3603),\n",
       " ('doug', 2417),\n",
       " ('realizes', 5566),\n",
       " ('anymore', 989),\n",
       " ('£100', 7716),\n",
       " ('music', 4649),\n",
       " ('starting', 6376),\n",
       " ('87066', 696),\n",
       " ('wwwldewcom', 7572),\n",
       " ('skillgame1winaweek', 6130),\n",
       " ('age16150ppermesssubscription', 870),\n",
       " ...]"
      ]
     },
     "execution_count": 39,
     "metadata": {},
     "output_type": "execute_result"
    }
   ],
   "source": [
    "d = bag_of_words_tfrmr.vocabulary_\n",
    "list(d.items())"
   ]
  },
  {
   "cell_type": "code",
   "execution_count": 40,
   "metadata": {},
   "outputs": [],
   "source": [
    "#bag_of_words_tfrmr_1 = CountVectorizer(analyzer= cleanup_text).fit(Cleaned['message'])\n",
    "#print(bag_of_words_tfrmr)"
   ]
  },
  {
   "cell_type": "code",
   "execution_count": 41,
   "metadata": {},
   "outputs": [],
   "source": [
    "#e = bag_of_words_tfrmr_1.vocabulary_\n",
    "#list(e.items())"
   ]
  },
  {
   "cell_type": "code",
   "execution_count": 42,
   "metadata": {},
   "outputs": [
    {
     "data": {
      "text/plain": [
       "{'4mths': 527,\n",
       " 'half': 3260,\n",
       " 'price': 5369,\n",
       " 'orange': 4959,\n",
       " 'line': 4112,\n",
       " 'rental': 5658,\n",
       " 'latest': 4022,\n",
       " 'camera': 1607,\n",
       " 'phones': 5161,\n",
       " '4': 481,\n",
       " 'free': 2925,\n",
       " 'phone': 5157,\n",
       " '11mths': 265,\n",
       " 'call': 1575,\n",
       " 'mobilesdirect': 4534,\n",
       " '08000938767': 46,\n",
       " 'update': 7096,\n",
       " 'or2stoptxt': 4957,\n",
       " 'tcs': 6660,\n",
       " 'stitch': 6413}"
      ]
     },
     "execution_count": 42,
     "metadata": {},
     "output_type": "execute_result"
    }
   ],
   "source": [
    "{k: d[k] for k in list(d.keys())[:20]}"
   ]
  },
  {
   "cell_type": "code",
   "execution_count": 43,
   "metadata": {},
   "outputs": [],
   "source": [
    "msg_bagofwords = bag_of_words_tfrmr.transform(X_train['message'])"
   ]
  },
  {
   "cell_type": "code",
   "execution_count": 44,
   "metadata": {},
   "outputs": [
    {
     "name": "stdout",
     "output_type": "stream",
     "text": [
      "[[0 0 0 ... 0 0 0]\n",
      " [0 0 0 ... 0 0 0]\n",
      " [0 0 0 ... 0 0 0]\n",
      " ...\n",
      " [0 0 0 ... 0 0 0]\n",
      " [0 0 0 ... 0 0 0]\n",
      " [0 0 0 ... 0 0 0]]\n"
     ]
    }
   ],
   "source": [
    "print(msg_bagofwords.toarray())"
   ]
  },
  {
   "cell_type": "code",
   "execution_count": 45,
   "metadata": {},
   "outputs": [
    {
     "data": {
      "text/plain": [
       "(4179, 7767)"
      ]
     },
     "execution_count": 45,
     "metadata": {},
     "output_type": "execute_result"
    }
   ],
   "source": [
    "msg_bagofwords.shape"
   ]
  },
  {
   "cell_type": "code",
   "execution_count": 46,
   "metadata": {},
   "outputs": [],
   "source": [
    "bag_of_words_tfrmr=CountVectorizer(analyzer=cleanup_text, binary=True).fit(X_train['message'])"
   ]
  },
  {
   "cell_type": "code",
   "execution_count": 47,
   "metadata": {},
   "outputs": [],
   "source": [
    "bow = bag_of_words_tfrmr.transform(X_train['message'])"
   ]
  },
  {
   "cell_type": "code",
   "execution_count": 48,
   "metadata": {},
   "outputs": [
    {
     "name": "stdout",
     "output_type": "stream",
     "text": [
      "(4179, 7767)\n"
     ]
    }
   ],
   "source": [
    "print(bow.shape)"
   ]
  },
  {
   "cell_type": "code",
   "execution_count": 49,
   "metadata": {},
   "outputs": [
    {
     "name": "stdout",
     "output_type": "stream",
     "text": [
      "[1, 1, 1, 1, 1, 1, 1, 1, 1, 1, 1, 1, 1, 1, 1, 1, 1, 1, 1, 1, 1, 1, 1]\n"
     ]
    }
   ],
   "source": [
    "print([bow[3,i] for i in range(bow.shape[1]) if bow[3,i]!=0])"
   ]
  },
  {
   "cell_type": "code",
   "execution_count": 50,
   "metadata": {},
   "outputs": [],
   "source": [
    "from sklearn.feature_extraction.text import TfidfTransformer\n"
   ]
  },
  {
   "cell_type": "code",
   "execution_count": 51,
   "metadata": {
    "scrolled": true
   },
   "outputs": [
    {
     "name": "stdout",
     "output_type": "stream",
     "text": [
      "TfidfTransformer(norm='l2', smooth_idf=True, sublinear_tf=False, use_idf=True)\n"
     ]
    }
   ],
   "source": [
    "\n",
    "tfidf_transformer = TfidfTransformer().fit(msg_bagofwords)\n",
    "print(tfidf_transformer)"
   ]
  },
  {
   "cell_type": "code",
   "execution_count": 52,
   "metadata": {},
   "outputs": [
    {
     "name": "stdout",
     "output_type": "stream",
     "text": [
      "(4179, 7767)\n"
     ]
    }
   ],
   "source": [
    "msg_tfidf = tfidf_transformer.transform(msg_bagofwords)\n",
    "print(msg_tfidf.shape)"
   ]
  },
  {
   "cell_type": "code",
   "execution_count": 53,
   "metadata": {},
   "outputs": [
    {
     "data": {
      "text/plain": [
       "[0.27680346298888897,\n",
       " 0.2526748114162265,\n",
       " 0.13942729995788955,\n",
       " 0.27680346298888897,\n",
       " 0.11658330656564357,\n",
       " 0.2103317423273042,\n",
       " 0.2946426881094261,\n",
       " 0.2033463380330262,\n",
       " 0.21164549393688367,\n",
       " 0.20031744711761582,\n",
       " 0.27680346298888897,\n",
       " 0.27680346298888897,\n",
       " 0.21591331582916273,\n",
       " 0.16510333009738964,\n",
       " 0.23856045505325238,\n",
       " 0.21908006944345038,\n",
       " 0.2449071205832383,\n",
       " 0.21746069439600033,\n",
       " 0.23079276422026418]"
      ]
     },
     "execution_count": 53,
     "metadata": {},
     "output_type": "execute_result"
    }
   ],
   "source": [
    "[msg_tfidf[0,i] for i in range(msg_tfidf.shape[1]) if msg_tfidf[0,i]!=0]"
   ]
  },
  {
   "cell_type": "code",
   "execution_count": 54,
   "metadata": {},
   "outputs": [],
   "source": [
    "from sklearn.naive_bayes import MultinomialNB"
   ]
  },
  {
   "cell_type": "code",
   "execution_count": 55,
   "metadata": {},
   "outputs": [],
   "source": [
    "X_train = msg_tfidf"
   ]
  },
  {
   "cell_type": "code",
   "execution_count": 56,
   "metadata": {},
   "outputs": [],
   "source": [
    " Spam_Classification_model=MultinomialNB().fit(X_train , Y_train)"
   ]
  },
  {
   "cell_type": "code",
   "execution_count": 57,
   "metadata": {},
   "outputs": [
    {
     "data": {
      "text/plain": [
       "MultinomialNB(alpha=1.0, class_prior=None, fit_prior=True)"
      ]
     },
     "execution_count": 57,
     "metadata": {},
     "output_type": "execute_result"
    }
   ],
   "source": [
    "Spam_Classification_model"
   ]
  },
  {
   "cell_type": "code",
   "execution_count": 58,
   "metadata": {},
   "outputs": [
    {
     "data": {
      "text/plain": [
       "0.9767887054319215"
      ]
     },
     "execution_count": 58,
     "metadata": {},
     "output_type": "execute_result"
    }
   ],
   "source": [
    "Spam_Classification_model.score(X_train,Y_train)"
   ]
  },
  {
   "cell_type": "code",
   "execution_count": 59,
   "metadata": {},
   "outputs": [
    {
     "data": {
      "text/plain": [
       "(1393, 1)"
      ]
     },
     "execution_count": 59,
     "metadata": {},
     "output_type": "execute_result"
    }
   ],
   "source": [
    "X_test.shape"
   ]
  },
  {
   "cell_type": "code",
   "execution_count": 60,
   "metadata": {},
   "outputs": [],
   "source": [
    "bow_test = bag_of_words_tfrmr.transform(X_test['message'])"
   ]
  },
  {
   "cell_type": "code",
   "execution_count": 61,
   "metadata": {},
   "outputs": [
    {
     "data": {
      "text/plain": [
       "(1393, 7767)"
      ]
     },
     "execution_count": 61,
     "metadata": {},
     "output_type": "execute_result"
    }
   ],
   "source": [
    "bow_test.shape"
   ]
  },
  {
   "cell_type": "code",
   "execution_count": 62,
   "metadata": {},
   "outputs": [
    {
     "name": "stdout",
     "output_type": "stream",
     "text": [
      "[1]\n"
     ]
    }
   ],
   "source": [
    "print([bow_test[3,i] for i in range(bow_test.shape[1]) if bow_test[3,i]!=0])"
   ]
  },
  {
   "cell_type": "code",
   "execution_count": 63,
   "metadata": {},
   "outputs": [
    {
     "name": "stdout",
     "output_type": "stream",
     "text": [
      "  (0, 5365)\t1\n",
      "  (0, 7645)\t1\n",
      "  (1, 4310)\t1\n",
      "  (1, 4529)\t1\n",
      "  (1, 5377)\t1\n",
      "  (2, 1009)\t1\n",
      "  (2, 7368)\t1\n",
      "  (3, 3311)\t1\n",
      "  (4, 342)\t1\n",
      "  (4, 1629)\t1\n",
      "  (4, 2111)\t1\n",
      "  (4, 2892)\t1\n",
      "  (4, 4062)\t1\n",
      "  (4, 5354)\t1\n",
      "  (4, 6086)\t1\n",
      "  (4, 6193)\t1\n",
      "  (4, 7537)\t1\n",
      "  (4, 7760)\t1\n",
      "  (5, 342)\t1\n",
      "  (5, 6780)\t1\n",
      "  (5, 7282)\t1\n",
      "  (5, 7304)\t1\n",
      "  (6, 342)\t1\n",
      "  (6, 1546)\t1\n",
      "  (6, 4343)\t1\n",
      "  :\t:\n",
      "  (1389, 3456)\t1\n",
      "  (1390, 2983)\t1\n",
      "  (1390, 4199)\t1\n",
      "  (1390, 4448)\t1\n",
      "  (1390, 4502)\t1\n",
      "  (1390, 4846)\t1\n",
      "  (1390, 5949)\t1\n",
      "  (1390, 5956)\t1\n",
      "  (1390, 6718)\t1\n",
      "  (1391, 2649)\t1\n",
      "  (1391, 3700)\t1\n",
      "  (1391, 4532)\t1\n",
      "  (1391, 4603)\t1\n",
      "  (1391, 7113)\t1\n",
      "  (1391, 7217)\t1\n",
      "  (1391, 7427)\t1\n",
      "  (1391, 7436)\t1\n",
      "  (1392, 882)\t1\n",
      "  (1392, 2477)\t1\n",
      "  (1392, 2940)\t1\n",
      "  (1392, 3236)\t1\n",
      "  (1392, 4400)\t1\n",
      "  (1392, 4652)\t1\n",
      "  (1392, 5749)\t1\n",
      "  (1392, 7282)\t1\n"
     ]
    }
   ],
   "source": [
    "print(bow_test)"
   ]
  },
  {
   "cell_type": "code",
   "execution_count": 64,
   "metadata": {},
   "outputs": [],
   "source": [
    "X_test_tfidf= tfidf_transformer.transform(bow_test)"
   ]
  },
  {
   "cell_type": "code",
   "execution_count": 65,
   "metadata": {},
   "outputs": [
    {
     "name": "stdout",
     "output_type": "stream",
     "text": [
      "  (0, 7645)\t0.7255411999351792\n",
      "  (0, 5365)\t0.6881787320141625\n",
      "  (1, 5377)\t0.5537358664799058\n",
      "  (1, 4529)\t0.6993766122230567\n",
      "  (1, 4310)\t0.4519390937384682\n",
      "  (2, 7368)\t0.7359969143596613\n",
      "  (2, 1009)\t0.6769848905648173\n",
      "  (3, 3311)\t1.0\n",
      "  (4, 7760)\t0.23397662078330114\n",
      "  (4, 7537)\t0.3574167338680539\n",
      "  (4, 6193)\t0.3473726711264934\n",
      "  (4, 6086)\t0.36999564021857745\n",
      "  (4, 5354)\t0.3868369046973467\n",
      "  (4, 4062)\t0.32558392907734063\n",
      "  (4, 2892)\t0.3083238130839835\n",
      "  (4, 2111)\t0.2410665781758287\n",
      "  (4, 1629)\t0.3430175373203306\n",
      "  (4, 342)\t0.1829160665578414\n",
      "  (5, 7304)\t0.49535444859671707\n",
      "  (5, 7282)\t0.5568759985881109\n",
      "  (5, 6780)\t0.5620422698800048\n",
      "  (5, 342)\t0.3586385078600294\n",
      "  (6, 6992)\t0.6268655397617149\n",
      "  (6, 4343)\t0.5722223643169534\n",
      "  (6, 1546)\t0.44339823650845817\n",
      "  :\t:\n",
      "  (1389, 2161)\t0.520578412556378\n",
      "  (1390, 6718)\t0.21975511604806672\n",
      "  (1390, 5956)\t0.42422006489143427\n",
      "  (1390, 5949)\t0.42422006489143427\n",
      "  (1390, 4846)\t0.2565067320482406\n",
      "  (1390, 4502)\t0.32534554032772883\n",
      "  (1390, 4448)\t0.42422006489143427\n",
      "  (1390, 4199)\t0.2965019054507301\n",
      "  (1390, 2983)\t0.3902062204374749\n",
      "  (1391, 7436)\t0.3754836709361977\n",
      "  (1391, 7427)\t0.2983990689508858\n",
      "  (1391, 7217)\t0.3802510121098626\n",
      "  (1391, 7113)\t0.21296972432492142\n",
      "  (1391, 4603)\t0.4134611079981005\n",
      "  (1391, 4532)\t0.2675782934117941\n",
      "  (1391, 3700)\t0.3976990474909087\n",
      "  (1391, 2649)\t0.42345048059076834\n",
      "  (1392, 7282)\t0.30879312965905936\n",
      "  (1392, 5749)\t0.3572777681354036\n",
      "  (1392, 4652)\t0.3949971977153988\n",
      "  (1392, 4400)\t0.289105371426794\n",
      "  (1392, 3236)\t0.3539787196539951\n",
      "  (1392, 2940)\t0.44837160502249973\n",
      "  (1392, 2477)\t0.31165787708027415\n",
      "  (1392, 882)\t0.33752930980314655\n"
     ]
    }
   ],
   "source": [
    "print(X_test_tfidf)"
   ]
  },
  {
   "cell_type": "code",
   "execution_count": 66,
   "metadata": {},
   "outputs": [
    {
     "data": {
      "text/plain": [
       "array([[0., 0., 0., ..., 0., 0., 0.],\n",
       "       [0., 0., 0., ..., 0., 0., 0.],\n",
       "       [0., 0., 0., ..., 0., 0., 0.],\n",
       "       ...,\n",
       "       [0., 0., 0., ..., 0., 0., 0.],\n",
       "       [0., 0., 0., ..., 0., 0., 0.],\n",
       "       [0., 0., 0., ..., 0., 0., 0.]])"
      ]
     },
     "execution_count": 66,
     "metadata": {},
     "output_type": "execute_result"
    }
   ],
   "source": [
    "X_test_tfidf.toarray()"
   ]
  },
  {
   "cell_type": "code",
   "execution_count": 67,
   "metadata": {},
   "outputs": [],
   "source": [
    "y_pred_class = Spam_Classification_model.predict(X_test_tfidf)\n",
    "df = pd.DataFrame({\"predicted\": y_pred_class, \"actual\": Y_test})"
   ]
  },
  {
   "cell_type": "code",
   "execution_count": 68,
   "metadata": {},
   "outputs": [
    {
     "data": {
      "text/html": [
       "<div>\n",
       "<style scoped>\n",
       "    .dataframe tbody tr th:only-of-type {\n",
       "        vertical-align: middle;\n",
       "    }\n",
       "\n",
       "    .dataframe tbody tr th {\n",
       "        vertical-align: top;\n",
       "    }\n",
       "\n",
       "    .dataframe thead th {\n",
       "        text-align: right;\n",
       "    }\n",
       "</style>\n",
       "<table border=\"1\" class=\"dataframe\">\n",
       "  <thead>\n",
       "    <tr style=\"text-align: right;\">\n",
       "      <th></th>\n",
       "      <th>predicted</th>\n",
       "      <th>actual</th>\n",
       "    </tr>\n",
       "  </thead>\n",
       "  <tbody>\n",
       "    <tr>\n",
       "      <td>1078</td>\n",
       "      <td>ham</td>\n",
       "      <td>ham</td>\n",
       "    </tr>\n",
       "    <tr>\n",
       "      <td>4028</td>\n",
       "      <td>ham</td>\n",
       "      <td>ham</td>\n",
       "    </tr>\n",
       "    <tr>\n",
       "      <td>958</td>\n",
       "      <td>ham</td>\n",
       "      <td>ham</td>\n",
       "    </tr>\n",
       "    <tr>\n",
       "      <td>4642</td>\n",
       "      <td>ham</td>\n",
       "      <td>ham</td>\n",
       "    </tr>\n",
       "    <tr>\n",
       "      <td>4674</td>\n",
       "      <td>ham</td>\n",
       "      <td>ham</td>\n",
       "    </tr>\n",
       "    <tr>\n",
       "      <td>...</td>\n",
       "      <td>...</td>\n",
       "      <td>...</td>\n",
       "    </tr>\n",
       "    <tr>\n",
       "      <td>3207</td>\n",
       "      <td>ham</td>\n",
       "      <td>ham</td>\n",
       "    </tr>\n",
       "    <tr>\n",
       "      <td>4655</td>\n",
       "      <td>ham</td>\n",
       "      <td>ham</td>\n",
       "    </tr>\n",
       "    <tr>\n",
       "      <td>1140</td>\n",
       "      <td>ham</td>\n",
       "      <td>ham</td>\n",
       "    </tr>\n",
       "    <tr>\n",
       "      <td>1793</td>\n",
       "      <td>spam</td>\n",
       "      <td>spam</td>\n",
       "    </tr>\n",
       "    <tr>\n",
       "      <td>1710</td>\n",
       "      <td>ham</td>\n",
       "      <td>ham</td>\n",
       "    </tr>\n",
       "  </tbody>\n",
       "</table>\n",
       "<p>1393 rows × 2 columns</p>\n",
       "</div>"
      ],
      "text/plain": [
       "     predicted actual\n",
       "1078       ham    ham\n",
       "4028       ham    ham\n",
       "958        ham    ham\n",
       "4642       ham    ham\n",
       "4674       ham    ham\n",
       "...        ...    ...\n",
       "3207       ham    ham\n",
       "4655       ham    ham\n",
       "1140       ham    ham\n",
       "1793      spam   spam\n",
       "1710       ham    ham\n",
       "\n",
       "[1393 rows x 2 columns]"
      ]
     },
     "execution_count": 68,
     "metadata": {},
     "output_type": "execute_result"
    }
   ],
   "source": [
    "df"
   ]
  },
  {
   "cell_type": "code",
   "execution_count": 69,
   "metadata": {},
   "outputs": [],
   "source": [
    "from sklearn.metrics import accuracy_score"
   ]
  },
  {
   "cell_type": "code",
   "execution_count": 70,
   "metadata": {},
   "outputs": [
    {
     "data": {
      "text/plain": [
       "0.964824120603015"
      ]
     },
     "execution_count": 70,
     "metadata": {},
     "output_type": "execute_result"
    }
   ],
   "source": [
    "accuracy_score(Y_test,y_pred_class)"
   ]
  },
  {
   "cell_type": "code",
   "execution_count": 71,
   "metadata": {},
   "outputs": [
    {
     "data": {
      "text/html": [
       "<div>\n",
       "<style scoped>\n",
       "    .dataframe tbody tr th:only-of-type {\n",
       "        vertical-align: middle;\n",
       "    }\n",
       "\n",
       "    .dataframe tbody tr th {\n",
       "        vertical-align: top;\n",
       "    }\n",
       "\n",
       "    .dataframe thead th {\n",
       "        text-align: right;\n",
       "    }\n",
       "</style>\n",
       "<table border=\"1\" class=\"dataframe\">\n",
       "  <thead>\n",
       "    <tr style=\"text-align: right;\">\n",
       "      <th>col_0</th>\n",
       "      <th>ham</th>\n",
       "      <th>spam</th>\n",
       "    </tr>\n",
       "    <tr>\n",
       "      <th>response</th>\n",
       "      <th></th>\n",
       "      <th></th>\n",
       "    </tr>\n",
       "  </thead>\n",
       "  <tbody>\n",
       "    <tr>\n",
       "      <td>ham</td>\n",
       "      <td>1208</td>\n",
       "      <td>0</td>\n",
       "    </tr>\n",
       "    <tr>\n",
       "      <td>spam</td>\n",
       "      <td>49</td>\n",
       "      <td>136</td>\n",
       "    </tr>\n",
       "  </tbody>\n",
       "</table>\n",
       "</div>"
      ],
      "text/plain": [
       "col_0      ham  spam\n",
       "response            \n",
       "ham       1208     0\n",
       "spam        49   136"
      ]
     },
     "execution_count": 71,
     "metadata": {},
     "output_type": "execute_result"
    }
   ],
   "source": [
    "pd.crosstab(Y_test,y_pred_class)"
   ]
  },
  {
   "cell_type": "code",
   "execution_count": 72,
   "metadata": {},
   "outputs": [
    {
     "data": {
      "text/plain": [
       "array([[0.97253909, 0.02746091],\n",
       "       [0.97643542, 0.02356458],\n",
       "       [0.90199174, 0.09800826],\n",
       "       ...,\n",
       "       [0.93247434, 0.06752566],\n",
       "       [0.40723912, 0.59276088],\n",
       "       [0.99598244, 0.00401756]])"
      ]
     },
     "execution_count": 72,
     "metadata": {},
     "output_type": "execute_result"
    }
   ],
   "source": [
    "Spam_Classification_model.predict_proba(X_test_tfidf)"
   ]
  },
  {
   "cell_type": "code",
   "execution_count": 73,
   "metadata": {},
   "outputs": [],
   "source": [
    "Y_predict_proba = Spam_Classification_model.predict_proba(X_test_tfidf)[:,1]"
   ]
  },
  {
   "cell_type": "code",
   "execution_count": 74,
   "metadata": {},
   "outputs": [
    {
     "data": {
      "text/plain": [
       "array([0.02746091, 0.02356458, 0.09800826, ..., 0.06752566, 0.59276088,\n",
       "       0.00401756])"
      ]
     },
     "execution_count": 74,
     "metadata": {},
     "output_type": "execute_result"
    }
   ],
   "source": [
    "Y_predict_proba"
   ]
  },
  {
   "cell_type": "code",
   "execution_count": 75,
   "metadata": {},
   "outputs": [
    {
     "name": "stdout",
     "output_type": "stream",
     "text": [
      "(1393,)\n",
      "(1393,)\n"
     ]
    }
   ],
   "source": [
    "print(Y_predict_proba.shape)\n",
    "print(Y_test.shape)"
   ]
  },
  {
   "cell_type": "code",
   "execution_count": 76,
   "metadata": {},
   "outputs": [],
   "source": [
    "from sklearn import metrics"
   ]
  },
  {
   "cell_type": "code",
   "execution_count": 77,
   "metadata": {},
   "outputs": [
    {
     "data": {
      "text/plain": [
       "0.9856855199570432"
      ]
     },
     "execution_count": 77,
     "metadata": {},
     "output_type": "execute_result"
    }
   ],
   "source": [
    "metrics.roc_auc_score( Y_test,Y_predict_proba)"
   ]
  },
  {
   "cell_type": "code",
   "execution_count": 78,
   "metadata": {},
   "outputs": [
    {
     "data": {
      "text/plain": [
       "(1393, 7767)"
      ]
     },
     "execution_count": 78,
     "metadata": {},
     "output_type": "execute_result"
    }
   ],
   "source": [
    "X_test_tfidf.shape"
   ]
  },
  {
   "cell_type": "code",
   "execution_count": 79,
   "metadata": {},
   "outputs": [
    {
     "data": {
      "text/plain": [
       "'ham'"
      ]
     },
     "execution_count": 79,
     "metadata": {},
     "output_type": "execute_result"
    }
   ],
   "source": [
    "y_pred_class[0]"
   ]
  },
  {
   "cell_type": "code",
   "execution_count": 80,
   "metadata": {},
   "outputs": [
    {
     "data": {
      "text/plain": [
       "array(['ham', 'ham', 'ham', ..., 'ham', 'spam', 'ham'], dtype='<U4')"
      ]
     },
     "execution_count": 80,
     "metadata": {},
     "output_type": "execute_result"
    }
   ],
   "source": [
    "y_pred_class = Spam_Classification_model.predict(X_test_tfidf)\n",
    "y_pred_class"
   ]
  },
  {
   "cell_type": "code",
   "execution_count": 87,
   "metadata": {},
   "outputs": [],
   "source": [
    "mail = \" i need some notes \""
   ]
  },
  {
   "cell_type": "code",
   "execution_count": 88,
   "metadata": {},
   "outputs": [],
   "source": [
    "message_bagofwords = bag_of_words_tfrmr.transform([mail])"
   ]
  },
  {
   "cell_type": "code",
   "execution_count": 89,
   "metadata": {},
   "outputs": [],
   "source": [
    "from sklearn.feature_extraction.text import TfidfTransformer"
   ]
  },
  {
   "cell_type": "code",
   "execution_count": 90,
   "metadata": {},
   "outputs": [],
   "source": [
    "Tfidf_transformer = TfidfTransformer().fit(message_bagofwords)"
   ]
  },
  {
   "cell_type": "code",
   "execution_count": 91,
   "metadata": {},
   "outputs": [
    {
     "data": {
      "text/plain": [
       "(1, 7767)"
      ]
     },
     "execution_count": 91,
     "metadata": {},
     "output_type": "execute_result"
    }
   ],
   "source": [
    "message_tfidf=tfidf_transformer.transform(message_bagofwords)\n",
    "message_tfidf.shape"
   ]
  },
  {
   "cell_type": "code",
   "execution_count": 92,
   "metadata": {},
   "outputs": [
    {
     "name": "stdout",
     "output_type": "stream",
     "text": [
      "predicted ['ham']\n"
     ]
    }
   ],
   "source": [
    "print('predicted',Spam_Classification_model.predict(message_tfidf))"
   ]
  },
  {
   "cell_type": "code",
   "execution_count": null,
   "metadata": {},
   "outputs": [],
   "source": []
  },
  {
   "cell_type": "code",
   "execution_count": null,
   "metadata": {},
   "outputs": [],
   "source": []
  }
 ],
 "metadata": {
  "kernelspec": {
   "display_name": "Python 3",
   "language": "python",
   "name": "python3"
  },
  "language_info": {
   "codemirror_mode": {
    "name": "ipython",
    "version": 3
   },
   "file_extension": ".py",
   "mimetype": "text/x-python",
   "name": "python",
   "nbconvert_exporter": "python",
   "pygments_lexer": "ipython3",
   "version": "3.7.4"
  }
 },
 "nbformat": 4,
 "nbformat_minor": 2
}
